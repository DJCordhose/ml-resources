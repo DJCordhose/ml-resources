{
 "cells": [
  {
   "cell_type": "markdown",
   "id": "f1e36ee2",
   "metadata": {},
   "source": [
    "# Bias in Skin Colors\n",
    "\n",
    "* We basically all have the some \"color\" of skin: red\n",
    "\n",
    "TODO:\n",
    "* based on histogram alter brightness to match appearance instead of doing it by hand"
   ]
  },
  {
   "cell_type": "code",
   "execution_count": null,
   "id": "ea122a90",
   "metadata": {},
   "outputs": [],
   "source": [
    "import cv2 as cv\n",
    "import numpy as np"
   ]
  },
  {
   "cell_type": "code",
   "execution_count": null,
   "id": "b6b951e6",
   "metadata": {},
   "outputs": [],
   "source": [
    "import matplotlib.pyplot as plt\n",
    "%matplotlib inline\n",
    "\n",
    "import matplotlib as mpl\n",
    "mpl.rcParams['figure.figsize'] = (30, 8)"
   ]
  },
  {
   "cell_type": "code",
   "execution_count": null,
   "id": "faf55147",
   "metadata": {},
   "outputs": [],
   "source": [
    "def martianize(img):\n",
    "    r, g, b = cv.split(img)\n",
    "    new_img = cv.merge((g, r, b))\n",
    "    return new_img"
   ]
  },
  {
   "cell_type": "code",
   "execution_count": null,
   "id": "f9da88f4",
   "metadata": {},
   "outputs": [],
   "source": [
    "def smurfify(img):\n",
    "    r, g, b = cv.split(img)\n",
    "    new_img = cv.merge((b, g, r))\n",
    "    return new_img"
   ]
  },
  {
   "cell_type": "code",
   "execution_count": null,
   "id": "823b16bf",
   "metadata": {},
   "outputs": [],
   "source": [
    "def brighter(img, value):\n",
    "    hsv =  cv.cvtColor(img, cv.COLOR_BGR2HSV)\n",
    "\n",
    "    h, s, v = cv.split(hsv)\n",
    "\n",
    "    # to avoid over- or underflow\n",
    "    v = v.astype('int16')\n",
    "    v += value\n",
    "    v = np.clip(v, 0, 255)\n",
    "    v = v.astype('uint8')\n",
    "\n",
    "    final_hsv = cv.merge((h, s, v))\n",
    "\n",
    "    bright_img =  cv.cvtColor(final_hsv, cv.COLOR_HSV2BGR)\n",
    "    return bright_img"
   ]
  },
  {
   "cell_type": "code",
   "execution_count": null,
   "id": "611979b6",
   "metadata": {},
   "outputs": [],
   "source": [
    "def hist(img):\n",
    "    hsv =  cv.cvtColor(img, cv.COLOR_BGR2HSV)\n",
    "    #  to avoid false values due to low light, low light values are discarded using cv.inRange() function.\n",
    "    mask = cv.inRange(hsv, np.array((0., 60.,32.)), np.array((180.,255.,255.)))\n",
    "    # for histogram, only Hue is considered\n",
    "    # channels = [0]\n",
    "    channels = [0]\n",
    "    bins = 180\n",
    "    ranges = [0,180]\n",
    "    # find histogram if roi so that we can backproject the target on each frame for calculation of meanshift\n",
    "    hist = cv.calcHist([hsv], channels, mask, [bins], ranges)\n",
    "    cv.normalize(hist,hist,0,255,cv.NORM_MINMAX);\n",
    "    plt.hist(hist, bins=bins);"
   ]
  },
  {
   "cell_type": "code",
   "execution_count": null,
   "id": "1580f881",
   "metadata": {},
   "outputs": [],
   "source": [
    "def load(path):\n",
    "    img = cv.imread(path)\n",
    "    img = cv.cvtColor(img, cv.COLOR_BGR2RGB)\n",
    "    return img"
   ]
  },
  {
   "cell_type": "markdown",
   "id": "f70e5525",
   "metadata": {},
   "source": [
    "## Examples"
   ]
  },
  {
   "cell_type": "code",
   "execution_count": null,
   "id": "625766f7",
   "metadata": {},
   "outputs": [],
   "source": [
    "!ls"
   ]
  },
  {
   "cell_type": "code",
   "execution_count": null,
   "id": "e28cde97",
   "metadata": {},
   "outputs": [],
   "source": [
    "img = load('olli.jpg')\n",
    "img = brighter(img, -50)\n",
    "img = martianize(img)\n",
    "plt.imshow(img);"
   ]
  },
  {
   "cell_type": "code",
   "execution_count": null,
   "id": "9910af01",
   "metadata": {},
   "outputs": [],
   "source": [
    "img = load('obama-tutu.jpg')\n",
    "img = brighter(img, 50)\n",
    "img = martianize(img)\n",
    "plt.imshow(img);"
   ]
  },
  {
   "cell_type": "code",
   "execution_count": null,
   "id": "885af24a",
   "metadata": {},
   "outputs": [],
   "source": [
    "img = load('Tenzin_Gyatso.jpg')\n",
    "img = brighter(img, 50)\n",
    "img = martianize(img)\n",
    "plt.imshow(img);"
   ]
  },
  {
   "cell_type": "code",
   "execution_count": null,
   "id": "da7b1503",
   "metadata": {},
   "outputs": [],
   "source": [
    "img = load('kalle-schwensen.jpg')\n",
    "img = brighter(img, 50)\n",
    "img = martianize(img)\n",
    "plt.imshow(img);"
   ]
  },
  {
   "cell_type": "code",
   "execution_count": null,
   "id": "e3234b4c",
   "metadata": {},
   "outputs": [],
   "source": [
    "img = load('Archbishop-Tutu.jpg')\n",
    "img = brighter(img, 50)\n",
    "img = martianize(img)\n",
    "plt.imshow(img);"
   ]
  },
  {
   "cell_type": "code",
   "execution_count": null,
   "id": "268f1084",
   "metadata": {},
   "outputs": [],
   "source": [
    "hist(img)"
   ]
  },
  {
   "cell_type": "code",
   "execution_count": null,
   "id": "75a6a74d",
   "metadata": {},
   "outputs": [],
   "source": [
    "img = load('genscher.jpg')\n",
    "img = brighter(img, -50)\n",
    "img = martianize(img)\n",
    "# img = smurfify(img)\n",
    "plt.imshow(img);"
   ]
  },
  {
   "cell_type": "code",
   "execution_count": null,
   "id": "a9dfb43d",
   "metadata": {},
   "outputs": [],
   "source": [
    "# this is almost BW (artifically), so no chance here\n",
    "# img = load('dark-skin-model-melanin-goddess-khoudia-diop-14.jpg')\n",
    "img = load('dark-skin-model-melanin-goddess-khoudia-diop-15.jpg')\n",
    "img = brighter(img, 80)\n",
    "img = martianize(img)\n",
    "# img = smurfify(img)\n",
    "plt.imshow(img);"
   ]
  },
  {
   "cell_type": "code",
   "execution_count": null,
   "id": "b6a7d80a",
   "metadata": {},
   "outputs": [],
   "source": [
    "img = load('mikio.jpg')\n",
    "img = brighter(img, 50)\n",
    "img = martianize(img)\n",
    "# img = smurfify(img)\n",
    "plt.imshow(img);"
   ]
  },
  {
   "cell_type": "code",
   "execution_count": null,
   "id": "8430f1c7",
   "metadata": {},
   "outputs": [],
   "source": [
    "img = load('kd.jpg')\n",
    "img = brighter(img, -100)\n",
    "img = martianize(img)\n",
    "# img = smurfify(img)\n",
    "plt.imshow(img);"
   ]
  },
  {
   "cell_type": "markdown",
   "id": "345689cf",
   "metadata": {},
   "source": [
    "## Just Eyes"
   ]
  },
  {
   "cell_type": "code",
   "execution_count": null,
   "id": "0764dae7",
   "metadata": {},
   "outputs": [],
   "source": [
    "img = load('eyes-1.jpg')\n",
    "img = brighter(img, 50)\n",
    "img = martianize(img)\n",
    "# img = smurfify(img)\n",
    "plt.imshow(img);"
   ]
  },
  {
   "cell_type": "code",
   "execution_count": null,
   "id": "b505402b",
   "metadata": {},
   "outputs": [],
   "source": [
    "img = load('eyes-2.jpg')\n",
    "img = brighter(img, -70)\n",
    "img = martianize(img)\n",
    "# img = smurfify(img)\n",
    "plt.imshow(img);"
   ]
  },
  {
   "cell_type": "code",
   "execution_count": null,
   "id": "29b5b360",
   "metadata": {},
   "outputs": [],
   "source": [
    "img = load('eyes-3.jpg')\n",
    "img = brighter(img, -100)\n",
    "img = martianize(img)\n",
    "# img = smurfify(img)\n",
    "plt.imshow(img);"
   ]
  },
  {
   "cell_type": "code",
   "execution_count": null,
   "id": "a966d01d",
   "metadata": {},
   "outputs": [],
   "source": []
  }
 ],
 "metadata": {
  "kernelspec": {
   "display_name": "Python 3 (ipykernel)",
   "language": "python",
   "name": "python3"
  },
  "language_info": {
   "codemirror_mode": {
    "name": "ipython",
    "version": 3
   },
   "file_extension": ".py",
   "mimetype": "text/x-python",
   "name": "python",
   "nbconvert_exporter": "python",
   "pygments_lexer": "ipython3",
   "version": "3.9.7"
  }
 },
 "nbformat": 4,
 "nbformat_minor": 5
}
