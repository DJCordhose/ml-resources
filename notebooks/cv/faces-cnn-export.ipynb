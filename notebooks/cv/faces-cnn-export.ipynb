{
  "cells": [
    {
      "cell_type": "markdown",
      "metadata": {
        "id": "view-in-github",
        "colab_type": "text"
      },
      "source": [
        "<a href=\"https://colab.research.google.com/github/DJCordhose/ml-resources/blob/main/notebooks/cv/faces-cnn-export.ipynb\" target=\"_parent\"><img src=\"https://colab.research.google.com/assets/colab-badge.svg\" alt=\"Open In Colab\"/></a>"
      ]
    },
    {
      "cell_type": "markdown",
      "id": "P0_S6aKxjvy7",
      "metadata": {
        "id": "P0_S6aKxjvy7"
      },
      "source": [
        "# Exporting model to tensorflow.js format\n",
        "\n",
        "https://www.tensorflow.org/js/tutorials/conversion/import_keras"
      ]
    },
    {
      "cell_type": "code",
      "execution_count": 22,
      "id": "db91282f",
      "metadata": {
        "id": "db91282f"
      },
      "outputs": [],
      "source": [
        "import sys\n",
        "\n",
        "if 'google.colab' in sys.modules:\n",
        "  !pip install -q tensorflowjs"
      ]
    },
    {
      "cell_type": "code",
      "source": [
        "from google.colab import drive\n",
        "\n",
        "drive_folder = \"/content/drive/MyDrive/public\"\n",
        "model_name = 'simple-vgg.h5'\n",
        "# model_name = 'resent50.h5'\n",
        "# export_dir = drive_folder + \"/tfjs-model-resent50\"\n",
        "export_dir = drive_folder + \"/tfjs-model-simple-vgg\"\n",
        "\n",
        "if 'google.colab' in sys.modules:\n",
        "  drive.mount(\"/content/drive\")\n",
        "  !cp {drive_folder}/model/{model_name} ."
      ],
      "metadata": {
        "colab": {
          "base_uri": "https://localhost:8080/"
        },
        "id": "UFCTK8nzLwxR",
        "outputId": "a796ad17-540f-4811-e3e5-5a7bf96c46ce"
      },
      "id": "UFCTK8nzLwxR",
      "execution_count": 41,
      "outputs": [
        {
          "output_type": "stream",
          "name": "stdout",
          "text": [
            "Drive already mounted at /content/drive; to attempt to forcibly remount, call drive.mount(\"/content/drive\", force_remount=True).\n"
          ]
        }
      ]
    },
    {
      "cell_type": "code",
      "source": [
        "!ls -l"
      ],
      "metadata": {
        "colab": {
          "base_uri": "https://localhost:8080/"
        },
        "id": "XlgWLgHNOXOo",
        "outputId": "20e782f1-d96d-480f-99cf-229d3684558d"
      },
      "id": "XlgWLgHNOXOo",
      "execution_count": 42,
      "outputs": [
        {
          "output_type": "stream",
          "name": "stdout",
          "text": [
            "total 303088\n",
            "drwx------ 6 root root      4096 Oct 26 21:35 drive\n",
            "-rw-r--r-- 1 root root   4194304 Oct 26 21:39 group1-shard1of2.bin\n",
            "-rw-r--r-- 1 root root   2446356 Oct 26 21:39 group1-shard2of2.bin\n",
            "-rw-r--r-- 1 root root      7080 Oct 26 21:39 model.json\n",
            "-rw------- 1 root root 283704376 Oct 26 22:15 resent50.h5\n",
            "drwxr-xr-x 1 root root      4096 Oct 25 13:35 sample_data\n",
            "-rw------- 1 root root  19990344 Oct 26 22:45 simple-vgg.h5\n"
          ]
        }
      ]
    },
    {
      "cell_type": "code",
      "execution_count": 43,
      "id": "ae7a596c",
      "metadata": {
        "colab": {
          "base_uri": "https://localhost:8080/"
        },
        "id": "ae7a596c",
        "outputId": "b2a789a5-1496-4944-8163-70ece46c4b9d"
      },
      "outputs": [
        {
          "output_type": "execute_result",
          "data": {
            "text/plain": [
              "('2.10.0', '4.0.0')"
            ]
          },
          "metadata": {},
          "execution_count": 43
        }
      ],
      "source": [
        "import tensorflowjs as tfjs\n",
        "import tensorflow as tf\n",
        "tf.__version__, tfjs.__version__"
      ]
    },
    {
      "cell_type": "code",
      "execution_count": 46,
      "id": "raTBukFluysL",
      "metadata": {
        "id": "raTBukFluysL"
      },
      "outputs": [],
      "source": [
        "# option 1: load model and save it in tfjs format, will give us the current tf version\n",
        "model = tf.keras.models.load_model(model_name)\n",
        "tfjs.converters.save_keras_model(model, export_dir)"
      ]
    },
    {
      "cell_type": "code",
      "source": [
        "# option 2: convert directly, will stick to the tf version used for saving\n",
        "# !tensorflowjs_converter --input_format keras \\\n",
        "#                        {model_name} \\\n",
        "#                        {export_dir}"
      ],
      "metadata": {
        "id": "a2UKXmRNPM1U"
      },
      "id": "a2UKXmRNPM1U",
      "execution_count": 47,
      "outputs": []
    },
    {
      "cell_type": "code",
      "source": [
        "!ls -l {export_dir}"
      ],
      "metadata": {
        "colab": {
          "base_uri": "https://localhost:8080/"
        },
        "id": "HMGsFM4GPm3z",
        "outputId": "443b3a8d-1f20-46f4-e55d-a01279baf98e"
      },
      "id": "HMGsFM4GPm3z",
      "execution_count": 48,
      "outputs": [
        {
          "output_type": "stream",
          "name": "stdout",
          "text": [
            "total 6493\n",
            "-rw------- 1 root root 4194304 Oct 26 22:46 group1-shard1of2.bin\n",
            "-rw------- 1 root root 2446356 Oct 26 22:46 group1-shard2of2.bin\n",
            "-rw------- 1 root root    7080 Oct 26 22:46 model.json\n"
          ]
        }
      ]
    },
    {
      "cell_type": "code",
      "source": [
        "!head {export_dir}/model.json"
      ],
      "metadata": {
        "colab": {
          "base_uri": "https://localhost:8080/"
        },
        "id": "aMi_J9G5QZE0",
        "outputId": "6d40b4e5-0672-442f-d6bb-97adcea30f47"
      },
      "id": "aMi_J9G5QZE0",
      "execution_count": 49,
      "outputs": [
        {
          "output_type": "stream",
          "name": "stdout",
          "text": [
            "{\"format\": \"layers-model\", \"generatedBy\": \"keras v2.10.0\", \"convertedBy\": \"TensorFlow.js Converter v4.0.0\", \"modelTopology\": {\"keras_version\": \"2.10.0\", \"backend\": \"tensorflow\", \"model_config\": {\"class_name\": \"Sequential\", \"config\": {\"name\": \"sequential\", \"layers\": [{\"class_name\": \"InputLayer\", \"config\": {\"batch_input_shape\": [null, 48, 48, 1], \"dtype\": \"float32\", \"sparse\": false, \"ragged\": false, \"name\": \"input\"}}, {\"class_name\": \"Conv2D\", \"config\": {\"name\": \"conv2d\", \"trainable\": true, \"dtype\": \"float32\", \"filters\": 32, \"kernel_size\": [3, 3], \"strides\": [1, 1], \"padding\": \"valid\", \"data_format\": \"channels_last\", \"dilation_rate\": [1, 1], \"groups\": 1, \"activation\": \"relu\", \"use_bias\": true, \"kernel_initializer\": {\"class_name\": \"GlorotUniform\", \"config\": {\"seed\": null}}, \"bias_initializer\": {\"class_name\": \"Zeros\", \"config\": {}}, \"kernel_regularizer\": null, \"bias_regularizer\": null, \"activity_regularizer\": null, \"kernel_constraint\": null, \"bias_constraint\": null}}, {\"class_name\": \"MaxPooling2D\", \"config\": {\"name\": \"max_pooling2d\", \"trainable\": true, \"dtype\": \"float32\", \"pool_size\": [2, 2], \"padding\": \"valid\", \"strides\": [2, 2], \"data_format\": \"channels_last\"}}, {\"class_name\": \"BatchNormalization\", \"config\": {\"name\": \"batch_normalization\", \"trainable\": true, \"dtype\": \"float32\", \"axis\": [3], \"momentum\": 0.99, \"epsilon\": 0.001, \"center\": true, \"scale\": true, \"beta_initializer\": {\"class_name\": \"Zeros\", \"config\": {}}, \"gamma_initializer\": {\"class_name\": \"Ones\", \"config\": {}}, \"moving_mean_initializer\": {\"class_name\": \"Zeros\", \"config\": {}}, \"moving_variance_initializer\": {\"class_name\": \"Ones\", \"config\": {}}, \"beta_regularizer\": null, \"gamma_regularizer\": null, \"beta_constraint\": null, \"gamma_constraint\": null}}, {\"class_name\": \"Dropout\", \"config\": {\"name\": \"dropout\", \"trainable\": true, \"dtype\": \"float32\", \"rate\": 0.7, \"noise_shape\": null, \"seed\": null}}, {\"class_name\": \"Conv2D\", \"config\": {\"name\": \"conv2d_1\", \"trainable\": true, \"dtype\": \"float32\", \"filters\": 64, \"kernel_size\": [3, 3], \"strides\": [1, 1], \"padding\": \"valid\", \"data_format\": \"channels_last\", \"dilation_rate\": [1, 1], \"groups\": 1, \"activation\": \"relu\", \"use_bias\": true, \"kernel_initializer\": {\"class_name\": \"GlorotUniform\", \"config\": {\"seed\": null}}, \"bias_initializer\": {\"class_name\": \"Zeros\", \"config\": {}}, \"kernel_regularizer\": null, \"bias_regularizer\": null, \"activity_regularizer\": null, \"kernel_constraint\": null, \"bias_constraint\": null}}, {\"class_name\": \"MaxPooling2D\", \"config\": {\"name\": \"max_pooling2d_1\", \"trainable\": true, \"dtype\": \"float32\", \"pool_size\": [2, 2], \"padding\": \"valid\", \"strides\": [2, 2], \"data_format\": \"channels_last\"}}, {\"class_name\": \"BatchNormalization\", \"config\": {\"name\": \"batch_normalization_1\", \"trainable\": true, \"dtype\": \"float32\", \"axis\": [3], \"momentum\": 0.99, \"epsilon\": 0.001, \"center\": true, \"scale\": true, \"beta_initializer\": {\"class_name\": \"Zeros\", \"config\": {}}, \"gamma_initializer\": {\"class_name\": \"Ones\", \"config\": {}}, \"moving_mean_initializer\": {\"class_name\": \"Zeros\", \"config\": {}}, \"moving_variance_initializer\": {\"class_name\": \"Ones\", \"config\": {}}, \"beta_regularizer\": null, \"gamma_regularizer\": null, \"beta_constraint\": null, \"gamma_constraint\": null}}, {\"class_name\": \"Dropout\", \"config\": {\"name\": \"dropout_1\", \"trainable\": true, \"dtype\": \"float32\", \"rate\": 0.7, \"noise_shape\": null, \"seed\": null}}, {\"class_name\": \"Flatten\", \"config\": {\"name\": \"flatten\", \"trainable\": true, \"dtype\": \"float32\", \"data_format\": \"channels_last\"}}, {\"class_name\": \"Dense\", \"config\": {\"name\": \"dense\", \"trainable\": true, \"dtype\": \"float32\", \"units\": 256, \"activation\": \"relu\", \"use_bias\": true, \"kernel_initializer\": {\"class_name\": \"GlorotUniform\", \"config\": {\"seed\": null}}, \"bias_initializer\": {\"class_name\": \"Zeros\", \"config\": {}}, \"kernel_regularizer\": null, \"bias_regularizer\": null, \"activity_regularizer\": null, \"kernel_constraint\": null, \"bias_constraint\": null}}, {\"class_name\": \"BatchNormalization\", \"config\": {\"name\": \"batch_normalization_2\", \"trainable\": true, \"dtype\": \"float32\", \"axis\": [1], \"momentum\": 0.99, \"epsilon\": 0.001, \"center\": true, \"scale\": true, \"beta_initializer\": {\"class_name\": \"Zeros\", \"config\": {}}, \"gamma_initializer\": {\"class_name\": \"Ones\", \"config\": {}}, \"moving_mean_initializer\": {\"class_name\": \"Zeros\", \"config\": {}}, \"moving_variance_initializer\": {\"class_name\": \"Ones\", \"config\": {}}, \"beta_regularizer\": null, \"gamma_regularizer\": null, \"beta_constraint\": null, \"gamma_constraint\": null}}, {\"class_name\": \"Dropout\", \"config\": {\"name\": \"dropout_2\", \"trainable\": true, \"dtype\": \"float32\", \"rate\": 0.7, \"noise_shape\": null, \"seed\": null}}, {\"class_name\": \"Dense\", \"config\": {\"name\": \"dense_1\", \"trainable\": true, \"dtype\": \"float32\", \"units\": 5, \"activation\": \"softmax\", \"use_bias\": true, \"kernel_initializer\": {\"class_name\": \"GlorotUniform\", \"config\": {\"seed\": null}}, \"bias_initializer\": {\"class_name\": \"Zeros\", \"config\": {}}, \"kernel_regularizer\": null, \"bias_regularizer\": null, \"activity_regularizer\": null, \"kernel_constraint\": null, \"bias_constraint\": null}}]}}, \"training_config\": {\"loss\": \"sparse_categorical_crossentropy\", \"metrics\": [[{\"class_name\": \"MeanMetricWrapper\", \"config\": {\"name\": \"accuracy\", \"dtype\": \"float32\", \"fn\": \"sparse_categorical_accuracy\"}}]], \"weighted_metrics\": null, \"loss_weights\": null, \"optimizer_config\": {\"class_name\": \"Adam\", \"config\": {\"name\": \"Adam\", \"learning_rate\": 0.0010000000474974513, \"decay\": 0.0, \"beta_1\": 0.8999999761581421, \"beta_2\": 0.9990000128746033, \"epsilon\": 1e-07, \"amsgrad\": false}}}}, \"weightsManifest\": [{\"paths\": [\"group1-shard1of2.bin\", \"group1-shard2of2.bin\"], \"weights\": [{\"name\": \"batch_normalization/gamma\", \"shape\": [32], \"dtype\": \"float32\"}, {\"name\": \"batch_normalization/beta\", \"shape\": [32], \"dtype\": \"float32\"}, {\"name\": \"batch_normalization/moving_mean\", \"shape\": [32], \"dtype\": \"float32\"}, {\"name\": \"batch_normalization/moving_variance\", \"shape\": [32], \"dtype\": \"float32\"}, {\"name\": \"batch_normalization_1/gamma\", \"shape\": [64], \"dtype\": \"float32\"}, {\"name\": \"batch_normalization_1/beta\", \"shape\": [64], \"dtype\": \"float32\"}, {\"name\": \"batch_normalization_1/moving_mean\", \"shape\": [64], \"dtype\": \"float32\"}, {\"name\": \"batch_normalization_1/moving_variance\", \"shape\": [64], \"dtype\": \"float32\"}, {\"name\": \"batch_normalization_2/gamma\", \"shape\": [256], \"dtype\": \"float32\"}, {\"name\": \"batch_normalization_2/beta\", \"shape\": [256], \"dtype\": \"float32\"}, {\"name\": \"batch_normalization_2/moving_mean\", \"shape\": [256], \"dtype\": \"float32\"}, {\"name\": \"batch_normalization_2/moving_variance\", \"shape\": [256], \"dtype\": \"float32\"}, {\"name\": \"conv2d/kernel\", \"shape\": [3, 3, 1, 32], \"dtype\": \"float32\"}, {\"name\": \"conv2d/bias\", \"shape\": [32], \"dtype\": \"float32\"}, {\"name\": \"conv2d_1/kernel\", \"shape\": [3, 3, 32, 64], \"dtype\": \"float32\"}, {\"name\": \"conv2d_1/bias\", \"shape\": [64], \"dtype\": \"float32\"}, {\"name\": \"dense/kernel\", \"shape\": [6400, 256], \"dtype\": \"float32\"}, {\"name\": \"dense/bias\", \"shape\": [256], \"dtype\": \"float32\"}, {\"name\": \"dense_1/kernel\", \"shape\": [256, 5], \"dtype\": \"float32\"}, {\"name\": \"dense_1/bias\", \"shape\": [5], \"dtype\": \"float32\"}]}]}"
          ]
        }
      ]
    },
    {
      "cell_type": "code",
      "source": [],
      "metadata": {
        "id": "jF5cgLl5XksE"
      },
      "id": "jF5cgLl5XksE",
      "execution_count": null,
      "outputs": []
    }
  ],
  "metadata": {
    "colab": {
      "provenance": [],
      "toc_visible": true,
      "include_colab_link": true
    },
    "gpuClass": "premium",
    "kernelspec": {
      "display_name": "Python 3 (ipykernel)",
      "language": "python",
      "name": "python3"
    },
    "language_info": {
      "codemirror_mode": {
        "name": "ipython",
        "version": 3
      },
      "file_extension": ".py",
      "mimetype": "text/x-python",
      "name": "python",
      "nbconvert_exporter": "python",
      "pygments_lexer": "ipython3",
      "version": "3.10.4"
    },
    "vscode": {
      "interpreter": {
        "hash": "916dbcbb3f70747c44a77c7bcd40155683ae19c65e1c03b4aa3499c5328201f1"
      }
    }
  },
  "nbformat": 4,
  "nbformat_minor": 5
}