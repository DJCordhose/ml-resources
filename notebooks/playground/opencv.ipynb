{
 "cells": [
  {
   "cell_type": "markdown",
   "id": "f1e36ee2",
   "metadata": {},
   "source": [
    "# Open CV Playground\n",
    "* https://docs.opencv.org/4.x/d7/d00/tutorial_meanshift.html\n"
   ]
  },
  {
   "cell_type": "code",
   "execution_count": null,
   "id": "ea122a90",
   "metadata": {},
   "outputs": [],
   "source": [
    "import cv2 as cv\n",
    "import numpy as np"
   ]
  },
  {
   "cell_type": "code",
   "execution_count": null,
   "id": "b6b951e6",
   "metadata": {},
   "outputs": [],
   "source": [
    "import matplotlib.pyplot as plt\n",
    "%matplotlib inline\n",
    "\n",
    "import matplotlib as mpl\n",
    "mpl.rcParams['figure.figsize'] = (30, 8)"
   ]
  },
  {
   "cell_type": "code",
   "execution_count": null,
   "id": "5f2e7bc1",
   "metadata": {},
   "outputs": [],
   "source": [
    "def martianize(img):\n",
    "    r, g, g = cv.split(img)\n",
    "    new_img = cv.merge((g, r, b))\n",
    "    return new_img"
   ]
  },
  {
   "cell_type": "code",
   "execution_count": null,
   "id": "a2e6d7cd",
   "metadata": {},
   "outputs": [],
   "source": [
    "def smurfify(img):\n",
    "    r, g, g = cv.split(img)\n",
    "    new_img = cv.merge((g, r, b))\n",
    "    return new_img"
   ]
  },
  {
   "cell_type": "code",
   "execution_count": null,
   "id": "bcde08d6",
   "metadata": {},
   "outputs": [],
   "source": [
    "def brighter(img, value):\n",
    "    hsv =  cv.cvtColor(img, cv.COLOR_BGR2HSV)\n",
    "\n",
    "    h, s, v = cv.split(hsv)\n",
    "\n",
    "    # to avoid over- or underflow\n",
    "    v = v.astype('int16')\n",
    "    v += value\n",
    "    v = np.clip(v, 0, 255)\n",
    "    v = v.astype('uint8')\n",
    "\n",
    "    final_hsv = cv.merge((h, s, v))\n",
    "\n",
    "    bright_img =  cv.cvtColor(final_hsv, cv.COLOR_HSV2BGR)\n",
    "    return bright_img"
   ]
  },
  {
   "cell_type": "code",
   "execution_count": null,
   "id": "48f695eb",
   "metadata": {},
   "outputs": [],
   "source": [
    "def hist(img):\n",
    "    hsv =  cv.cvtColor(img, cv.COLOR_BGR2HSV)\n",
    "    #  to avoid false values due to low light, low light values are discarded using cv.inRange() function.\n",
    "    mask = cv.inRange(hsv, np.array((0., 60.,32.)), np.array((180.,255.,255.)))\n",
    "    # for histogram, only Hue is considered\n",
    "    # channels = [0]\n",
    "    channels = [0]\n",
    "    bins = 180\n",
    "    ranges = [0,180]\n",
    "    # find histogram if roi so that we can backproject the target on each frame for calculation of meanshift\n",
    "    hist = cv.calcHist([hsv], channels, mask, [bins], ranges)\n",
    "    cv.normalize(hist,hist,0,255,cv.NORM_MINMAX);\n",
    "    plt.hist(hist, bins=bins);"
   ]
  },
  {
   "cell_type": "code",
   "execution_count": null,
   "id": "b99299d6",
   "metadata": {},
   "outputs": [],
   "source": [
    "def load(path):\n",
    "    img = cv.imread(path)\n",
    "    img = cv.cvtColor(img, cv.COLOR_BGR2RGB)\n",
    "    return img"
   ]
  },
  {
   "cell_type": "code",
   "execution_count": null,
   "id": "d22fbf84",
   "metadata": {},
   "outputs": [],
   "source": [
    "!ls"
   ]
  },
  {
   "cell_type": "code",
   "execution_count": null,
   "id": "3bb4fb55",
   "metadata": {},
   "outputs": [],
   "source": [
    "img = cv.imread('olli-opa.jpeg')\n",
    "plt.imshow(img);"
   ]
  },
  {
   "cell_type": "code",
   "execution_count": null,
   "id": "23c2e43f",
   "metadata": {},
   "outputs": [],
   "source": [
    "img = cv.imread('obama-tutu.jpg')\n",
    "plt.imshow(img);"
   ]
  },
  {
   "cell_type": "code",
   "execution_count": null,
   "id": "995de7d5",
   "metadata": {},
   "outputs": [],
   "source": [
    "img = cv.imread('obama-tutu.jpg')\n",
    "img = cv.cvtColor(img, cv.COLOR_BGR2RGB)\n",
    "plt.imshow(img);"
   ]
  },
  {
   "cell_type": "code",
   "execution_count": null,
   "id": "1966b1ad",
   "metadata": {},
   "outputs": [],
   "source": [
    "img = cv.imread('Tenzin_Gyatso.jpg')\n",
    "plt.imshow(img);"
   ]
  },
  {
   "cell_type": "code",
   "execution_count": null,
   "id": "2cb147c9",
   "metadata": {},
   "outputs": [],
   "source": [
    "img = cv.imread('kalle-schwensen.jpg')\n",
    "plt.imshow(img);"
   ]
  },
  {
   "cell_type": "code",
   "execution_count": null,
   "id": "6006757f",
   "metadata": {},
   "outputs": [],
   "source": [
    "img = cv.imread('Archbishop-Tutu.jpg')\n",
    "plt.imshow(img);"
   ]
  },
  {
   "cell_type": "code",
   "execution_count": null,
   "id": "7b6006ad",
   "metadata": {},
   "outputs": [],
   "source": [
    "hist(img)"
   ]
  },
  {
   "cell_type": "code",
   "execution_count": null,
   "id": "fa1f7472",
   "metadata": {},
   "outputs": [],
   "source": [
    "img.shape"
   ]
  },
  {
   "cell_type": "code",
   "execution_count": null,
   "id": "efbc87ea",
   "metadata": {},
   "outputs": [],
   "source": [
    "hsv[:, :, 2]"
   ]
  },
  {
   "cell_type": "code",
   "execution_count": null,
   "id": "781b638b",
   "metadata": {},
   "outputs": [],
   "source": [
    "cv.add?"
   ]
  },
  {
   "cell_type": "code",
   "execution_count": null,
   "id": "32eaf2cc",
   "metadata": {},
   "outputs": [],
   "source": [
    "img = cv.imread('kalle-schwensen.jpg')\n",
    "plt.imshow(img);"
   ]
  },
  {
   "cell_type": "code",
   "execution_count": null,
   "id": "190f2a8c",
   "metadata": {},
   "outputs": [],
   "source": [
    "np.max(img)"
   ]
  },
  {
   "cell_type": "code",
   "execution_count": null,
   "id": "d530c135",
   "metadata": {},
   "outputs": [],
   "source": [
    "hsv =  cv.cvtColor(img, cv.COLOR_BGR2HSV)\n",
    "value = 25\n",
    "hsv[:,:,2] += value\n",
    "# hsv = np.clip(hsv, 0, 255)\n",
    "# cv.add(hsv[:, :, 2], value, hsv[:, :, 2])\n",
    "bright_img =  cv.cvtColor(hsv, cv.COLOR_HSV2BGR)\n",
    "plt.imshow(bright_img);"
   ]
  },
  {
   "cell_type": "code",
   "execution_count": null,
   "id": "4503b29f",
   "metadata": {},
   "outputs": [],
   "source": [
    "# hsv = np.clip(hsv, 0, 255)"
   ]
  },
  {
   "cell_type": "code",
   "execution_count": null,
   "id": "746573c9",
   "metadata": {},
   "outputs": [],
   "source": [
    "np.max(hsv)"
   ]
  },
  {
   "cell_type": "code",
   "execution_count": null,
   "id": "9134a36d",
   "metadata": {},
   "outputs": [],
   "source": [
    "img = cv.imread('genscher.jpg')\n",
    "plt.imshow(img);"
   ]
  },
  {
   "cell_type": "code",
   "execution_count": null,
   "id": "e2301357",
   "metadata": {},
   "outputs": [],
   "source": [
    "hsv =  cv.cvtColor(img, cv.COLOR_BGR2HSV)\n",
    "value = -50\n",
    "\n",
    "h, s, v = cv.split(hsv)\n",
    "\n",
    "# lim = 255 - value\n",
    "# v[v > lim] = 255\n",
    "# v[v <= lim] += value\n",
    "\n",
    "# to avoid over- or underflow\n",
    "v = v.astype('int16')\n",
    "v += value\n",
    "v = np.clip(v, 0, 255)\n",
    "v = v.astype('uint8')\n",
    "\n",
    "final_hsv = cv.merge((h, s, v))\n",
    "\n",
    "bright_img =  cv.cvtColor(final_hsv, cv.COLOR_HSV2BGR)\n",
    "plt.imshow(bright_img);"
   ]
  },
  {
   "cell_type": "code",
   "execution_count": null,
   "id": "3c77168f",
   "metadata": {},
   "outputs": [],
   "source": [
    "img = cv.imread('dark-skin-model-melanin-goddess-khoudia-diop-15.jpg')\n",
    "# img = cv.imread('dark-skin-model-melanin-goddess-khoudia-diop-14.jpg')\n",
    "plt.imshow(img);"
   ]
  },
  {
   "cell_type": "code",
   "execution_count": null,
   "id": "e30fac67",
   "metadata": {},
   "outputs": [],
   "source": [
    "bright_img = brighter(img, 100)\n",
    "plt.imshow(bright_img);\n"
   ]
  },
  {
   "cell_type": "code",
   "execution_count": null,
   "id": "37717ae1",
   "metadata": {},
   "outputs": [],
   "source": [
    "img_original = cv.cvtColor(img, cv.COLOR_BGR2RGB)\n",
    "# img_original = cv.cvtColor(bright_img, cv.COLOR_BGR2RGB)\n",
    "plt.imshow(img_original)"
   ]
  },
  {
   "cell_type": "code",
   "execution_count": null,
   "id": "0856d5e4",
   "metadata": {},
   "outputs": [],
   "source": [
    "img = cv.imread('Archbishop-Tutu.jpg')\n",
    "plt.imshow(img);"
   ]
  },
  {
   "cell_type": "code",
   "execution_count": null,
   "id": "d6014e2f",
   "metadata": {},
   "outputs": [],
   "source": [
    "bright_img = brighter(img, 50)\n",
    "plt.imshow(bright_img);"
   ]
  },
  {
   "cell_type": "code",
   "execution_count": null,
   "id": "9bd8944a",
   "metadata": {},
   "outputs": [],
   "source": [
    "bright_img = cv.cvtColor(bright_img, cv.COLOR_BGR2RGB)\n",
    "plt.imshow(bright_img);"
   ]
  },
  {
   "cell_type": "code",
   "execution_count": null,
   "id": "dd20eed6",
   "metadata": {},
   "outputs": [],
   "source": [
    "img = cv.imread('Archbishop-Tutu.jpg')\n",
    "img = brighter(img, 50)\n",
    "img = martianize(img)\n",
    "plt.imshow(img);"
   ]
  },
  {
   "cell_type": "code",
   "execution_count": null,
   "id": "147d0c34",
   "metadata": {},
   "outputs": [],
   "source": [
    "img = cv.imread('3500.jpg')\n",
    "img = brighter(img, 50)\n",
    "img = martianize(img)\n",
    "plt.imshow(img);"
   ]
  },
  {
   "cell_type": "code",
   "execution_count": null,
   "id": "2e08c23c",
   "metadata": {},
   "outputs": [],
   "source": [
    "img = cv.imread('mikio.jpeg')\n",
    "img = brighter(img, 50)\n",
    "img = martianize(img)\n",
    "plt.imshow(img);"
   ]
  },
  {
   "cell_type": "code",
   "execution_count": null,
   "id": "680c08af",
   "metadata": {},
   "outputs": [],
   "source": [
    "img = cv.imread('olli.jpg')\n",
    "# img = brighter(img, 50)\n",
    "img = martianize(img)\n",
    "plt.imshow(img);"
   ]
  },
  {
   "cell_type": "code",
   "execution_count": null,
   "id": "1c8bbc24",
   "metadata": {},
   "outputs": [],
   "source": [
    "img = cv.imread('kd.jpg')\n",
    "# img = brighter(img, 50)\n",
    "img = martianize(img)\n",
    "plt.imshow(img);"
   ]
  },
  {
   "cell_type": "code",
   "execution_count": null,
   "id": "1be48416",
   "metadata": {},
   "outputs": [],
   "source": [
    "# img = cv.imread('dark-skin-model-melanin-goddess-khoudia-diop-15.jpg')\n",
    "img = cv.imread('dark-skin-model-melanin-goddess-khoudia-diop-14.jpg')\n",
    "img = brighter(img, 150)\n",
    "img = martianize(img)\n",
    "plt.imshow(img);"
   ]
  },
  {
   "cell_type": "code",
   "execution_count": null,
   "id": "409dede2",
   "metadata": {},
   "outputs": [],
   "source": []
  }
 ],
 "metadata": {
  "kernelspec": {
   "display_name": "Python 3 (ipykernel)",
   "language": "python",
   "name": "python3"
  },
  "language_info": {
   "codemirror_mode": {
    "name": "ipython",
    "version": 3
   },
   "file_extension": ".py",
   "mimetype": "text/x-python",
   "name": "python",
   "nbconvert_exporter": "python",
   "pygments_lexer": "ipython3",
   "version": "3.9.7"
  }
 },
 "nbformat": 4,
 "nbformat_minor": 5
}
